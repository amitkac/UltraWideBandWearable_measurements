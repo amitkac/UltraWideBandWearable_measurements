{
 "cells": [
  {
   "cell_type": "code",
   "execution_count": 1,
   "metadata": {},
   "outputs": [
    {
     "name": "stdout",
     "output_type": "stream",
     "text": [
      "['/Users/Amit/Documents/PythonTutorial/RF modeling/matlab/final_mes/in_nlos/P2\\\\frequencyList.csv', '/Users/Amit/Documents/PythonTutorial/RF modeling/matlab/final_mes/in_nlos/P2\\\\Meas0_P2D1_magData.csv', '/Users/Amit/Documents/PythonTutorial/RF modeling/matlab/final_mes/in_nlos/P2\\\\Meas0_P2D1_phaseData.csv', '/Users/Amit/Documents/PythonTutorial/RF modeling/matlab/final_mes/in_nlos/P2\\\\Meas1_P2D2_magData.csv', '/Users/Amit/Documents/PythonTutorial/RF modeling/matlab/final_mes/in_nlos/P2\\\\Meas1_P2D2_phaseData.csv', '/Users/Amit/Documents/PythonTutorial/RF modeling/matlab/final_mes/in_nlos/P2\\\\Meas2_P2D3_magData.csv', '/Users/Amit/Documents/PythonTutorial/RF modeling/matlab/final_mes/in_nlos/P2\\\\Meas2_P2D3_phaseData.csv', '/Users/Amit/Documents/PythonTutorial/RF modeling/matlab/final_mes/in_nlos/P2\\\\Meas3_P2D4_magData.csv', '/Users/Amit/Documents/PythonTutorial/RF modeling/matlab/final_mes/in_nlos/P2\\\\Meas3_P2D4_phaseData.csv', '/Users/Amit/Documents/PythonTutorial/RF modeling/matlab/final_mes/in_nlos/P2\\\\Meas4_P2D5_magData.csv', '/Users/Amit/Documents/PythonTutorial/RF modeling/matlab/final_mes/in_nlos/P2\\\\Meas4_P2D5_phaseData.csv', '/Users/Amit/Documents/PythonTutorial/RF modeling/matlab/final_mes/in_nlos/P2\\\\Meas5_P2D6_magData.csv', '/Users/Amit/Documents/PythonTutorial/RF modeling/matlab/final_mes/in_nlos/P2\\\\Meas5_P2D6_phaseData.csv', '/Users/Amit/Documents/PythonTutorial/RF modeling/matlab/final_mes/in_nlos/P2\\\\Meas6_P2D7_magData.csv', '/Users/Amit/Documents/PythonTutorial/RF modeling/matlab/final_mes/in_nlos/P2\\\\Meas6_P2D7_phaseData.csv', '/Users/Amit/Documents/PythonTutorial/RF modeling/matlab/final_mes/in_nlos/P2\\\\Meas7_P2D8_magData.csv', '/Users/Amit/Documents/PythonTutorial/RF modeling/matlab/final_mes/in_nlos/P2\\\\Meas7_P2D8_phaseData.csv', '/Users/Amit/Documents/PythonTutorial/RF modeling/matlab/final_mes/in_nlos/P2\\\\Meas8_P2D9_magData.csv', '/Users/Amit/Documents/PythonTutorial/RF modeling/matlab/final_mes/in_nlos/P2\\\\Meas8_P2D9_phaseData.csv', '/Users/Amit/Documents/PythonTutorial/RF modeling/matlab/final_mes/in_nlos/P2\\\\Meas9_P2D10_magData.csv', '/Users/Amit/Documents/PythonTutorial/RF modeling/matlab/final_mes/in_nlos/P2\\\\Meas9_P2D10_phaseData.csv']\n"
     ]
    }
   ],
   "source": [
    "import numpy as np\n",
    "import pandas as pd\n",
    "import matplotlib.pyplot as plt\n",
    "import glob\n",
    "import os\n",
    "print(glob.glob('/Users/Amit/Documents/PythonTutorial/RF modeling/matlab/final_mes/in_nlos/P2\\*.csv'))"
   ]
  },
  {
   "cell_type": "code",
   "execution_count": 31,
   "metadata": {},
   "outputs": [
    {
     "data": {
      "text/html": [
       "<div>\n",
       "<style scoped>\n",
       "    .dataframe tbody tr th:only-of-type {\n",
       "        vertical-align: middle;\n",
       "    }\n",
       "\n",
       "    .dataframe tbody tr th {\n",
       "        vertical-align: top;\n",
       "    }\n",
       "\n",
       "    .dataframe thead th {\n",
       "        text-align: right;\n",
       "    }\n",
       "</style>\n",
       "<table border=\"1\" class=\"dataframe\">\n",
       "  <thead>\n",
       "    <tr style=\"text-align: right;\">\n",
       "      <th></th>\n",
       "      <th>header-1</th>\n",
       "      <th>header-2</th>\n",
       "      <th>header-3</th>\n",
       "      <th>header-4</th>\n",
       "      <th>header-5</th>\n",
       "      <th>header-6</th>\n",
       "      <th>header-7</th>\n",
       "      <th>header-8</th>\n",
       "      <th>header-9</th>\n",
       "      <th>header-10</th>\n",
       "    </tr>\n",
       "  </thead>\n",
       "  <tbody>\n",
       "    <tr>\n",
       "      <th>count</th>\n",
       "      <td>1601.000000</td>\n",
       "      <td>1601.000000</td>\n",
       "      <td>1601.000000</td>\n",
       "      <td>1601.000000</td>\n",
       "      <td>1601.000000</td>\n",
       "      <td>1601.000000</td>\n",
       "      <td>1601.000000</td>\n",
       "      <td>1601.000000</td>\n",
       "      <td>1601.000000</td>\n",
       "      <td>1601.000000</td>\n",
       "    </tr>\n",
       "    <tr>\n",
       "      <th>mean</th>\n",
       "      <td>-68.037413</td>\n",
       "      <td>-68.289860</td>\n",
       "      <td>-68.107942</td>\n",
       "      <td>-68.058462</td>\n",
       "      <td>-66.863700</td>\n",
       "      <td>-67.677188</td>\n",
       "      <td>-67.744986</td>\n",
       "      <td>-67.758638</td>\n",
       "      <td>-67.645836</td>\n",
       "      <td>-67.674163</td>\n",
       "    </tr>\n",
       "    <tr>\n",
       "      <th>std</th>\n",
       "      <td>5.890666</td>\n",
       "      <td>5.805542</td>\n",
       "      <td>5.767763</td>\n",
       "      <td>5.548506</td>\n",
       "      <td>5.641771</td>\n",
       "      <td>5.706862</td>\n",
       "      <td>5.805282</td>\n",
       "      <td>5.673485</td>\n",
       "      <td>5.529771</td>\n",
       "      <td>5.595850</td>\n",
       "    </tr>\n",
       "    <tr>\n",
       "      <th>min</th>\n",
       "      <td>-101.832000</td>\n",
       "      <td>-97.082020</td>\n",
       "      <td>-97.042960</td>\n",
       "      <td>-98.621080</td>\n",
       "      <td>-94.300790</td>\n",
       "      <td>-99.761710</td>\n",
       "      <td>-96.996080</td>\n",
       "      <td>-94.460930</td>\n",
       "      <td>-102.933600</td>\n",
       "      <td>-100.296900</td>\n",
       "    </tr>\n",
       "    <tr>\n",
       "      <th>25%</th>\n",
       "      <td>-70.761720</td>\n",
       "      <td>-71.277340</td>\n",
       "      <td>-71.140620</td>\n",
       "      <td>-71.128900</td>\n",
       "      <td>-69.917960</td>\n",
       "      <td>-70.613280</td>\n",
       "      <td>-70.945310</td>\n",
       "      <td>-70.714840</td>\n",
       "      <td>-70.421870</td>\n",
       "      <td>-70.878910</td>\n",
       "    </tr>\n",
       "    <tr>\n",
       "      <th>50%</th>\n",
       "      <td>-67.078120</td>\n",
       "      <td>-67.328120</td>\n",
       "      <td>-67.226560</td>\n",
       "      <td>-67.257800</td>\n",
       "      <td>-66.097650</td>\n",
       "      <td>-66.945300</td>\n",
       "      <td>-66.886710</td>\n",
       "      <td>-66.886710</td>\n",
       "      <td>-66.808590</td>\n",
       "      <td>-66.789050</td>\n",
       "    </tr>\n",
       "    <tr>\n",
       "      <th>75%</th>\n",
       "      <td>-64.171870</td>\n",
       "      <td>-64.257810</td>\n",
       "      <td>-64.175780</td>\n",
       "      <td>-64.144530</td>\n",
       "      <td>-62.966790</td>\n",
       "      <td>-63.654290</td>\n",
       "      <td>-63.656240</td>\n",
       "      <td>-63.765620</td>\n",
       "      <td>-63.810540</td>\n",
       "      <td>-63.833980</td>\n",
       "    </tr>\n",
       "    <tr>\n",
       "      <th>max</th>\n",
       "      <td>-55.568350</td>\n",
       "      <td>-54.978510</td>\n",
       "      <td>-31.799800</td>\n",
       "      <td>-56.931640</td>\n",
       "      <td>-55.845700</td>\n",
       "      <td>-55.648430</td>\n",
       "      <td>-54.966790</td>\n",
       "      <td>-55.792960</td>\n",
       "      <td>-55.128900</td>\n",
       "      <td>-53.615230</td>\n",
       "    </tr>\n",
       "  </tbody>\n",
       "</table>\n",
       "</div>"
      ],
      "text/plain": [
       "          header-1     header-2     header-3     header-4     header-5  \\\n",
       "count  1601.000000  1601.000000  1601.000000  1601.000000  1601.000000   \n",
       "mean    -68.037413   -68.289860   -68.107942   -68.058462   -66.863700   \n",
       "std       5.890666     5.805542     5.767763     5.548506     5.641771   \n",
       "min    -101.832000   -97.082020   -97.042960   -98.621080   -94.300790   \n",
       "25%     -70.761720   -71.277340   -71.140620   -71.128900   -69.917960   \n",
       "50%     -67.078120   -67.328120   -67.226560   -67.257800   -66.097650   \n",
       "75%     -64.171870   -64.257810   -64.175780   -64.144530   -62.966790   \n",
       "max     -55.568350   -54.978510   -31.799800   -56.931640   -55.845700   \n",
       "\n",
       "          header-6     header-7     header-8     header-9    header-10  \n",
       "count  1601.000000  1601.000000  1601.000000  1601.000000  1601.000000  \n",
       "mean    -67.677188   -67.744986   -67.758638   -67.645836   -67.674163  \n",
       "std       5.706862     5.805282     5.673485     5.529771     5.595850  \n",
       "min     -99.761710   -96.996080   -94.460930  -102.933600  -100.296900  \n",
       "25%     -70.613280   -70.945310   -70.714840   -70.421870   -70.878910  \n",
       "50%     -66.945300   -66.886710   -66.886710   -66.808590   -66.789050  \n",
       "75%     -63.654290   -63.656240   -63.765620   -63.810540   -63.833980  \n",
       "max     -55.648430   -54.966790   -55.792960   -55.128900   -53.615230  "
      ]
     },
     "execution_count": 31,
     "metadata": {},
     "output_type": "execute_result"
    }
   ],
   "source": [
    "position=list(range(1,16,1));\n",
    "distances=[8- i*0.5 for i in range(0,10) ];\n",
    "file_number=list(range(0,10,1))\n",
    "#print(distances[0:10],file_number)\n",
    "\n",
    "# list of files to read \n",
    "\n",
    "f_list=['/Users/Amit/Documents/PythonTutorial/RF modeling/matlab/final_mes/in_nlos/P2/Meas'+str(x)+'_P'+str(2)+'D'+str(x+1) +'_magData.csv' for x in file_number ];\n",
    "# print(f_list)\n",
    "\n",
    "# creating dataframe list\n",
    "dfs=[pd.read_csv(f,header=None,names=['header-'+ str(x) for x in range(1,11)]) for f in f_list]\n",
    "dfs[0].describe()"
   ]
  },
  {
   "cell_type": "code",
   "execution_count": 32,
   "metadata": {},
   "outputs": [],
   "source": [
    "# read frequency file\n",
    "freq_df=pd.read_csv('/Users/Amit/Documents/PythonTutorial/RF modeling/matlab/final_mes/in_nlos/P2/frequencyList.csv',header=None,names=['frequency'])\n",
    "\n",
    "# append the frequency column in all dataframes\n",
    "\n",
    "dff = [dfs[x].merge(freq_df, right_index=True, left_index=True,how='outer').reset_index() for x in file_number]\n",
    "#dfs[0].plot.scatter(x='header-1',y='header-2',c='darkblue')"
   ]
  },
  {
   "cell_type": "code",
   "execution_count": 33,
   "metadata": {},
   "outputs": [
    {
     "data": {
      "text/html": [
       "<div>\n",
       "<style scoped>\n",
       "    .dataframe tbody tr th:only-of-type {\n",
       "        vertical-align: middle;\n",
       "    }\n",
       "\n",
       "    .dataframe tbody tr th {\n",
       "        vertical-align: top;\n",
       "    }\n",
       "\n",
       "    .dataframe thead th {\n",
       "        text-align: right;\n",
       "    }\n",
       "</style>\n",
       "<table border=\"1\" class=\"dataframe\">\n",
       "  <thead>\n",
       "    <tr style=\"text-align: right;\">\n",
       "      <th></th>\n",
       "      <th>index</th>\n",
       "      <th>header-1</th>\n",
       "      <th>header-2</th>\n",
       "      <th>header-3</th>\n",
       "      <th>header-4</th>\n",
       "      <th>header-5</th>\n",
       "      <th>header-6</th>\n",
       "      <th>header-7</th>\n",
       "      <th>header-8</th>\n",
       "      <th>header-9</th>\n",
       "      <th>header-10</th>\n",
       "      <th>frequency</th>\n",
       "    </tr>\n",
       "  </thead>\n",
       "  <tbody>\n",
       "    <tr>\n",
       "      <th>0</th>\n",
       "      <td>0</td>\n",
       "      <td>-67.52343</td>\n",
       "      <td>-76.59765</td>\n",
       "      <td>-67.66796</td>\n",
       "      <td>-67.55077</td>\n",
       "      <td>-67.57813</td>\n",
       "      <td>-70.65624</td>\n",
       "      <td>-66.34375</td>\n",
       "      <td>-67.82812</td>\n",
       "      <td>-72.77344</td>\n",
       "      <td>-68.29296</td>\n",
       "      <td>3.100000e+09</td>\n",
       "    </tr>\n",
       "    <tr>\n",
       "      <th>1</th>\n",
       "      <td>1</td>\n",
       "      <td>-65.17968</td>\n",
       "      <td>-66.46484</td>\n",
       "      <td>-68.87890</td>\n",
       "      <td>-69.69140</td>\n",
       "      <td>-76.60546</td>\n",
       "      <td>-70.64453</td>\n",
       "      <td>-67.20312</td>\n",
       "      <td>-69.44140</td>\n",
       "      <td>-69.75390</td>\n",
       "      <td>-70.58984</td>\n",
       "      <td>3.104685e+09</td>\n",
       "    </tr>\n",
       "    <tr>\n",
       "      <th>2</th>\n",
       "      <td>2</td>\n",
       "      <td>-76.07422</td>\n",
       "      <td>-70.40234</td>\n",
       "      <td>-68.19140</td>\n",
       "      <td>-67.10155</td>\n",
       "      <td>-69.60155</td>\n",
       "      <td>-67.94922</td>\n",
       "      <td>-70.65624</td>\n",
       "      <td>-76.77343</td>\n",
       "      <td>-82.41014</td>\n",
       "      <td>-74.48047</td>\n",
       "      <td>3.109369e+09</td>\n",
       "    </tr>\n",
       "    <tr>\n",
       "      <th>3</th>\n",
       "      <td>3</td>\n",
       "      <td>-63.99219</td>\n",
       "      <td>-67.87499</td>\n",
       "      <td>-74.87499</td>\n",
       "      <td>-72.33593</td>\n",
       "      <td>-64.62109</td>\n",
       "      <td>-70.99609</td>\n",
       "      <td>-67.93359</td>\n",
       "      <td>-69.51562</td>\n",
       "      <td>-64.81250</td>\n",
       "      <td>-70.00390</td>\n",
       "      <td>3.114054e+09</td>\n",
       "    </tr>\n",
       "    <tr>\n",
       "      <th>4</th>\n",
       "      <td>4</td>\n",
       "      <td>-68.59375</td>\n",
       "      <td>-72.77344</td>\n",
       "      <td>-69.15625</td>\n",
       "      <td>-72.07812</td>\n",
       "      <td>-70.55859</td>\n",
       "      <td>-74.55859</td>\n",
       "      <td>-66.01171</td>\n",
       "      <td>-75.96093</td>\n",
       "      <td>-70.33984</td>\n",
       "      <td>-67.98828</td>\n",
       "      <td>3.118738e+09</td>\n",
       "    </tr>\n",
       "  </tbody>\n",
       "</table>\n",
       "</div>"
      ],
      "text/plain": [
       "   index  header-1  header-2  header-3  header-4  header-5  header-6  \\\n",
       "0      0 -67.52343 -76.59765 -67.66796 -67.55077 -67.57813 -70.65624   \n",
       "1      1 -65.17968 -66.46484 -68.87890 -69.69140 -76.60546 -70.64453   \n",
       "2      2 -76.07422 -70.40234 -68.19140 -67.10155 -69.60155 -67.94922   \n",
       "3      3 -63.99219 -67.87499 -74.87499 -72.33593 -64.62109 -70.99609   \n",
       "4      4 -68.59375 -72.77344 -69.15625 -72.07812 -70.55859 -74.55859   \n",
       "\n",
       "   header-7  header-8  header-9  header-10     frequency  \n",
       "0 -66.34375 -67.82812 -72.77344  -68.29296  3.100000e+09  \n",
       "1 -67.20312 -69.44140 -69.75390  -70.58984  3.104685e+09  \n",
       "2 -70.65624 -76.77343 -82.41014  -74.48047  3.109369e+09  \n",
       "3 -67.93359 -69.51562 -64.81250  -70.00390  3.114054e+09  \n",
       "4 -66.01171 -75.96093 -70.33984  -67.98828  3.118738e+09  "
      ]
     },
     "execution_count": 33,
     "metadata": {},
     "output_type": "execute_result"
    }
   ],
   "source": [
    "dff[1].head()"
   ]
  },
  {
   "cell_type": "code",
   "execution_count": 88,
   "metadata": {},
   "outputs": [],
   "source": [
    "# for 3.1-4 Ghz\n",
    "\n",
    "#cond = [dff[k].apply(lambda k: if (dff[k].frequency>=3.1*10**9) &  (dff[k].frequency <4.1*10**9)) for k in range(0,10)]\n",
    "#cond_total = functools.reduce(lambda x, y: x & y, cond)\n",
    "#print(df[cond_total])\n",
    "\n",
    "\n",
    "daff = {k: pd.DataFrame() for k in range(0,10)}\n",
    "\n",
    "for x in range(0,10):\n",
    "    daff[x]=dff[x][(dff[x].frequency>=3.1*10**9) &  (dff[x].frequency <6.1*10**9)]\n",
    "\n",
    "\n",
    "\n",
    "#dff_3=dff[1][(dff[1].frequency>=3.1*10**9) &  (dff[1].frequency <4.1*10**9)] \n"
   ]
  },
  {
   "cell_type": "code",
   "execution_count": 89,
   "metadata": {},
   "outputs": [
    {
     "name": "stdout",
     "output_type": "stream",
     "text": [
      "(10, 12)\n",
      "(12,)\n",
      "[66.36197032 66.32285583 66.03247164 66.13615023 65.25626831 65.29840339\n",
      " 65.5718775  65.54561668 65.63652354 65.86090376]\n"
     ]
    }
   ],
   "source": [
    "y=np.array([daff[i].mean(axis=0) for i in range(0,10)])\n",
    "print((y.shape))\n",
    "pl=np.mean(y, axis=0)*-1;\n",
    "print(pl.shape)\n",
    "pl=pl[1:11]\n",
    "print(pl)\n"
   ]
  },
  {
   "cell_type": "code",
   "execution_count": 99,
   "metadata": {},
   "outputs": [
    {
     "name": "stdout",
     "output_type": "stream",
     "text": [
      "       dist         pl\n",
      "0  9.030900  66.361970\n",
      "1  8.750613  66.322856\n",
      "2  8.450980  66.032472\n",
      "3  8.129134  66.136150\n",
      "4  7.781513  65.256268\n",
      "5  7.403627  65.298403\n",
      "6  6.989700  65.571877\n",
      "7  6.532125  65.545617\n",
      "8  6.020600  65.636524\n",
      "9  5.440680  65.860904\n"
     ]
    }
   ],
   "source": [
    "dist=10*np.log10(distances);\n",
    "import seaborn as sns\n",
    "dat=pd.DataFrame([dist,pl],index=['dist','pl']).T\n",
    "print(dat)"
   ]
  },
  {
   "cell_type": "code",
   "execution_count": 100,
   "metadata": {},
   "outputs": [
    {
     "data": {
      "image/png": "[encoded data removed]",
      "text/plain": [
       "<Figure size 360x360 with 1 Axes>"
      ]
     },
     "metadata": {
      "needs_background": "light"
     },
     "output_type": "display_data"
    }
   ],
   "source": [
    "g=sns.lmplot(x='dist',y='pl',data=dat,fit_reg=True);\n",
    "ax=g.axes[0,0];\n",
    "ax.grid(True)"
   ]
  },
  {
   "cell_type": "code",
   "execution_count": 103,
   "metadata": {},
   "outputs": [
    {
     "data": {
      "text/plain": [
       "Text(0, 0.5, 'path loss [dB]')"
      ]
     },
     "execution_count": 103,
     "metadata": {},
     "output_type": "execute_result"
    },
    {
     "data": {
      "image/png": "[encoded data removed]",
      "text/plain": [
       "<Figure size 432x288 with 1 Axes>"
      ]
     },
     "metadata": {
      "needs_background": "light"
     },
     "output_type": "display_data"
    }
   ],
   "source": [
    "import statsmodels.api as sm\n",
    "dist2=sm.add_constant(dist);\n",
    "model=sm.OLS(pl,dist2);\n",
    "fitted=model.fit();\n",
    "plt.scatter(dist,pl,alpha=0.5,color='orchid');\n",
    "plt.grid(True);\n",
    "x_pred=np.linspace(dist.min(),dist.max(),50);\n",
    "x_pred2=sm.add_constant(x_pred); y_pred=fitted.predict(x_pred2);\n",
    "plt.plot(x_pred,y_pred,'-',color='darkorchid',linewidth=2)\n",
    "plt.xlabel('distance');\n",
    "plt.ylabel('path loss [dB]')\n"
   ]
  },
  {
   "cell_type": "code",
   "execution_count": 104,
   "metadata": {},
   "outputs": [
    {
     "name": "stdout",
     "output_type": "stream",
     "text": [
      "                            OLS Regression Results                            \n",
      "==============================================================================\n",
      "Dep. Variable:                      y   R-squared:                       0.288\n",
      "Model:                            OLS   Adj. R-squared:                  0.199\n",
      "Method:                 Least Squares   F-statistic:                     3.238\n",
      "Date:                Sun, 16 Dec 2018   Prob (F-statistic):              0.110\n",
      "Time:                        15:22:08   Log-Likelihood:                -2.8369\n",
      "No. Observations:                  10   AIC:                             9.674\n",
      "Df Residuals:                       8   BIC:                             10.28\n",
      "Df Model:                           1                                         \n",
      "Covariance Type:            nonrobust                                         \n",
      "==============================================================================\n",
      "                 coef    std err          t      P>|t|      [0.025      0.975]\n",
      "------------------------------------------------------------------------------\n",
      "const         64.4608      0.754     85.480      0.000      62.722      66.200\n",
      "x1             0.1800      0.100      1.800      0.110      -0.051       0.411\n",
      "==============================================================================\n",
      "Omnibus:                        1.340   Durbin-Watson:                   0.996\n",
      "Prob(Omnibus):                  0.512   Jarque-Bera (JB):                0.944\n",
      "Skew:                          -0.655   Prob(JB):                        0.624\n",
      "Kurtosis:                       2.258   Cond. No.                         50.9\n",
      "==============================================================================\n",
      "\n",
      "Warnings:\n",
      "[1] Standard Errors assume that the covariance matrix of the errors is correctly specified.\n"
     ]
    },
    {
     "name": "stderr",
     "output_type": "stream",
     "text": [
      "C:\\Python3\\lib\\site-packages\\scipy\\stats\\stats.py:1394: UserWarning: kurtosistest only valid for n>=20 ... continuing anyway, n=10\n",
      "  \"anyway, n=%i\" % int(n))\n"
     ]
    }
   ],
   "source": [
    "print(fitted.summary())"
   ]
  },
  {
   "cell_type": "code",
   "execution_count": null,
   "metadata": {},
   "outputs": [],
   "source": []
  }
 ],
 "metadata": {
  "kernelspec": {
   "display_name": "Python 3",
   "language": "python",
   "name": "python3"
  },
  "language_info": {
   "codemirror_mode": {
    "name": "ipython",
    "version": 3
   },
   "file_extension": ".py",
   "mimetype": "text/x-python",
   "name": "python",
   "nbconvert_exporter": "python",
   "pygments_lexer": "ipython3",
   "version": "3.6.8rc1"
  }
 },
 "nbformat": 4,
 "nbformat_minor": 2
}
