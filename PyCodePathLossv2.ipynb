{
 "cells": [
  {
   "cell_type": "code",
   "execution_count": 1,
   "metadata": {},
   "outputs": [],
   "source": [
    "import numpy as np\n",
    "import pandas as pd\n",
    "import matplotlib.pyplot as plt\n"
   ]
  },
  {
   "cell_type": "code",
   "execution_count": 2,
   "metadata": {
    "scrolled": true
   },
   "outputs": [
    {
     "name": "stdout",
     "output_type": "stream",
     "text": [
      "['/Users/akachro/Documents/PythonCodes/UltraWideBandWearable_measurements-master/RF modeling/matlab/final_mes/in_nlos/P2\\\\frequencyList.csv', '/Users/akachro/Documents/PythonCodes/UltraWideBandWearable_measurements-master/RF modeling/matlab/final_mes/in_nlos/P2\\\\Meas0_P2D1_magData.csv', '/Users/akachro/Documents/PythonCodes/UltraWideBandWearable_measurements-master/RF modeling/matlab/final_mes/in_nlos/P2\\\\Meas0_P2D1_phaseData.csv', '/Users/akachro/Documents/PythonCodes/UltraWideBandWearable_measurements-master/RF modeling/matlab/final_mes/in_nlos/P2\\\\Meas1_P2D2_magData.csv', '/Users/akachro/Documents/PythonCodes/UltraWideBandWearable_measurements-master/RF modeling/matlab/final_mes/in_nlos/P2\\\\Meas1_P2D2_phaseData.csv', '/Users/akachro/Documents/PythonCodes/UltraWideBandWearable_measurements-master/RF modeling/matlab/final_mes/in_nlos/P2\\\\Meas2_P2D3_magData.csv', '/Users/akachro/Documents/PythonCodes/UltraWideBandWearable_measurements-master/RF modeling/matlab/final_mes/in_nlos/P2\\\\Meas2_P2D3_phaseData.csv', '/Users/akachro/Documents/PythonCodes/UltraWideBandWearable_measurements-master/RF modeling/matlab/final_mes/in_nlos/P2\\\\Meas3_P2D4_magData.csv', '/Users/akachro/Documents/PythonCodes/UltraWideBandWearable_measurements-master/RF modeling/matlab/final_mes/in_nlos/P2\\\\Meas3_P2D4_phaseData.csv', '/Users/akachro/Documents/PythonCodes/UltraWideBandWearable_measurements-master/RF modeling/matlab/final_mes/in_nlos/P2\\\\Meas4_P2D5_magData.csv', '/Users/akachro/Documents/PythonCodes/UltraWideBandWearable_measurements-master/RF modeling/matlab/final_mes/in_nlos/P2\\\\Meas4_P2D5_phaseData.csv', '/Users/akachro/Documents/PythonCodes/UltraWideBandWearable_measurements-master/RF modeling/matlab/final_mes/in_nlos/P2\\\\Meas5_P2D6_magData.csv', '/Users/akachro/Documents/PythonCodes/UltraWideBandWearable_measurements-master/RF modeling/matlab/final_mes/in_nlos/P2\\\\Meas5_P2D6_phaseData.csv', '/Users/akachro/Documents/PythonCodes/UltraWideBandWearable_measurements-master/RF modeling/matlab/final_mes/in_nlos/P2\\\\Meas6_P2D7_magData.csv', '/Users/akachro/Documents/PythonCodes/UltraWideBandWearable_measurements-master/RF modeling/matlab/final_mes/in_nlos/P2\\\\Meas6_P2D7_phaseData.csv', '/Users/akachro/Documents/PythonCodes/UltraWideBandWearable_measurements-master/RF modeling/matlab/final_mes/in_nlos/P2\\\\Meas7_P2D8_magData.csv', '/Users/akachro/Documents/PythonCodes/UltraWideBandWearable_measurements-master/RF modeling/matlab/final_mes/in_nlos/P2\\\\Meas7_P2D8_phaseData.csv', '/Users/akachro/Documents/PythonCodes/UltraWideBandWearable_measurements-master/RF modeling/matlab/final_mes/in_nlos/P2\\\\Meas8_P2D9_magData.csv', '/Users/akachro/Documents/PythonCodes/UltraWideBandWearable_measurements-master/RF modeling/matlab/final_mes/in_nlos/P2\\\\Meas8_P2D9_phaseData.csv', '/Users/akachro/Documents/PythonCodes/UltraWideBandWearable_measurements-master/RF modeling/matlab/final_mes/in_nlos/P2\\\\Meas9_P2D10_magData.csv', '/Users/akachro/Documents/PythonCodes/UltraWideBandWearable_measurements-master/RF modeling/matlab/final_mes/in_nlos/P2\\\\Meas9_P2D10_phaseData.csv']\n"
     ]
    }
   ],
   "source": [
    "# importing data from the measurement folder\n",
    "import glob\n",
    "\n",
    "# list the directory C:\\Users\\akachro\\Documents\\PythonCodes\\UltraWideBandWearable_measurements-master\n",
    "print(glob.glob('/Users/akachro/Documents/PythonCodes/UltraWideBandWearable_measurements-master/RF modeling/matlab/final_mes/in_nlos/P2\\*.csv'))"
   ]
  },
  {
   "cell_type": "code",
   "execution_count": 3,
   "metadata": {},
   "outputs": [
    {
     "name": "stdout",
     "output_type": "stream",
     "text": [
      "[8.0, 7.5, 7.0, 6.5, 6.0, 5.5, 5.0, 4.5, 4.0, 3.5] [0, 1, 2, 3, 4, 5, 6, 7, 8, 9]\n"
     ]
    }
   ],
   "source": [
    "position=list(range(1,16,1));\n",
    "distances=[8- i*0.5 for i in range(0,10) ];\n",
    "file_number=list(range(0,10,1))\n",
    "print(distances[0:10],file_number)"
   ]
  },
  {
   "cell_type": "code",
   "execution_count": 4,
   "metadata": {},
   "outputs": [
    {
     "data": {
      "text/plain": [
       "[1, 2, 3, 4, 5, 6, 7, 8, 9, 10, 11, 12, 13, 14]"
      ]
     },
     "execution_count": 4,
     "metadata": {},
     "output_type": "execute_result"
    }
   ],
   "source": [
    "list(range(1,15,1))"
   ]
  },
  {
   "cell_type": "code",
   "execution_count": 5,
   "metadata": {},
   "outputs": [
    {
     "name": "stdout",
     "output_type": "stream",
     "text": [
      "['/Users/akachro/Documents/PythonCodes/UltraWideBandWearable_measurements-master/RF modeling/matlab/final_mes/in_nlos/P2/Meas0_P2D1_magData.csv', '/Users/akachro/Documents/PythonCodes/UltraWideBandWearable_measurements-master/RF modeling/matlab/final_mes/in_nlos/P2/Meas1_P2D2_magData.csv', '/Users/akachro/Documents/PythonCodes/UltraWideBandWearable_measurements-master/RF modeling/matlab/final_mes/in_nlos/P2/Meas2_P2D3_magData.csv', '/Users/akachro/Documents/PythonCodes/UltraWideBandWearable_measurements-master/RF modeling/matlab/final_mes/in_nlos/P2/Meas3_P2D4_magData.csv', '/Users/akachro/Documents/PythonCodes/UltraWideBandWearable_measurements-master/RF modeling/matlab/final_mes/in_nlos/P2/Meas4_P2D5_magData.csv', '/Users/akachro/Documents/PythonCodes/UltraWideBandWearable_measurements-master/RF modeling/matlab/final_mes/in_nlos/P2/Meas5_P2D6_magData.csv', '/Users/akachro/Documents/PythonCodes/UltraWideBandWearable_measurements-master/RF modeling/matlab/final_mes/in_nlos/P2/Meas6_P2D7_magData.csv', '/Users/akachro/Documents/PythonCodes/UltraWideBandWearable_measurements-master/RF modeling/matlab/final_mes/in_nlos/P2/Meas7_P2D8_magData.csv', '/Users/akachro/Documents/PythonCodes/UltraWideBandWearable_measurements-master/RF modeling/matlab/final_mes/in_nlos/P2/Meas8_P2D9_magData.csv', '/Users/akachro/Documents/PythonCodes/UltraWideBandWearable_measurements-master/RF modeling/matlab/final_mes/in_nlos/P2/Meas9_P2D10_magData.csv']\n"
     ]
    }
   ],
   "source": [
    "# list of files to read \n",
    "\n",
    "f_list=['/Users/akachro/Documents/PythonCodes/UltraWideBandWearable_measurements-master/RF modeling/matlab/final_mes/in_nlos/P2/Meas'+str(x)+'_P'+str(2)+'D'+str(x+1) +'_magData.csv' for x in file_number ];\n",
    "print(f_list)\n",
    "\n",
    "# creating dataframe list\n",
    "dfs=[pd.read_csv(f,header=None,names=['header-'+ str(x) for x in range(1,11)]) for f in f_list]"
   ]
  },
  {
   "cell_type": "code",
   "execution_count": 6,
   "metadata": {},
   "outputs": [
    {
     "name": "stdout",
     "output_type": "stream",
     "text": [
      "(1601, 10)\n"
     ]
    }
   ],
   "source": [
    "len(dfs); print(dfs[1].shape)"
   ]
  },
  {
   "cell_type": "code",
   "execution_count": 7,
   "metadata": {},
   "outputs": [
    {
     "data": {
      "text/html": [
       "<div>\n",
       "<style scoped>\n",
       "    .dataframe tbody tr th:only-of-type {\n",
       "        vertical-align: middle;\n",
       "    }\n",
       "\n",
       "    .dataframe tbody tr th {\n",
       "        vertical-align: top;\n",
       "    }\n",
       "\n",
       "    .dataframe thead th {\n",
       "        text-align: right;\n",
       "    }\n",
       "</style>\n",
       "<table border=\"1\" class=\"dataframe\">\n",
       "  <thead>\n",
       "    <tr style=\"text-align: right;\">\n",
       "      <th></th>\n",
       "      <th>header-1</th>\n",
       "      <th>header-2</th>\n",
       "      <th>header-3</th>\n",
       "      <th>header-4</th>\n",
       "      <th>header-5</th>\n",
       "      <th>header-6</th>\n",
       "      <th>header-7</th>\n",
       "      <th>header-8</th>\n",
       "      <th>header-9</th>\n",
       "      <th>header-10</th>\n",
       "    </tr>\n",
       "  </thead>\n",
       "  <tbody>\n",
       "    <tr>\n",
       "      <th>count</th>\n",
       "      <td>1601.000000</td>\n",
       "      <td>1601.000000</td>\n",
       "      <td>1601.000000</td>\n",
       "      <td>1601.000000</td>\n",
       "      <td>1601.000000</td>\n",
       "      <td>1601.000000</td>\n",
       "      <td>1601.000000</td>\n",
       "      <td>1601.000000</td>\n",
       "      <td>1601.000000</td>\n",
       "      <td>1601.000000</td>\n",
       "    </tr>\n",
       "    <tr>\n",
       "      <th>mean</th>\n",
       "      <td>-68.037413</td>\n",
       "      <td>-68.289860</td>\n",
       "      <td>-68.107942</td>\n",
       "      <td>-68.058462</td>\n",
       "      <td>-66.863700</td>\n",
       "      <td>-67.677188</td>\n",
       "      <td>-67.744986</td>\n",
       "      <td>-67.758638</td>\n",
       "      <td>-67.645836</td>\n",
       "      <td>-67.674163</td>\n",
       "    </tr>\n",
       "    <tr>\n",
       "      <th>std</th>\n",
       "      <td>5.890666</td>\n",
       "      <td>5.805542</td>\n",
       "      <td>5.767763</td>\n",
       "      <td>5.548506</td>\n",
       "      <td>5.641771</td>\n",
       "      <td>5.706862</td>\n",
       "      <td>5.805282</td>\n",
       "      <td>5.673485</td>\n",
       "      <td>5.529771</td>\n",
       "      <td>5.595850</td>\n",
       "    </tr>\n",
       "    <tr>\n",
       "      <th>min</th>\n",
       "      <td>-101.832000</td>\n",
       "      <td>-97.082020</td>\n",
       "      <td>-97.042960</td>\n",
       "      <td>-98.621080</td>\n",
       "      <td>-94.300790</td>\n",
       "      <td>-99.761710</td>\n",
       "      <td>-96.996080</td>\n",
       "      <td>-94.460930</td>\n",
       "      <td>-102.933600</td>\n",
       "      <td>-100.296900</td>\n",
       "    </tr>\n",
       "    <tr>\n",
       "      <th>25%</th>\n",
       "      <td>-70.761720</td>\n",
       "      <td>-71.277340</td>\n",
       "      <td>-71.140620</td>\n",
       "      <td>-71.128900</td>\n",
       "      <td>-69.917960</td>\n",
       "      <td>-70.613280</td>\n",
       "      <td>-70.945310</td>\n",
       "      <td>-70.714840</td>\n",
       "      <td>-70.421870</td>\n",
       "      <td>-70.878910</td>\n",
       "    </tr>\n",
       "    <tr>\n",
       "      <th>50%</th>\n",
       "      <td>-67.078120</td>\n",
       "      <td>-67.328120</td>\n",
       "      <td>-67.226560</td>\n",
       "      <td>-67.257800</td>\n",
       "      <td>-66.097650</td>\n",
       "      <td>-66.945300</td>\n",
       "      <td>-66.886710</td>\n",
       "      <td>-66.886710</td>\n",
       "      <td>-66.808590</td>\n",
       "      <td>-66.789050</td>\n",
       "    </tr>\n",
       "    <tr>\n",
       "      <th>75%</th>\n",
       "      <td>-64.171870</td>\n",
       "      <td>-64.257810</td>\n",
       "      <td>-64.175780</td>\n",
       "      <td>-64.144530</td>\n",
       "      <td>-62.966790</td>\n",
       "      <td>-63.654290</td>\n",
       "      <td>-63.656240</td>\n",
       "      <td>-63.765620</td>\n",
       "      <td>-63.810540</td>\n",
       "      <td>-63.833980</td>\n",
       "    </tr>\n",
       "    <tr>\n",
       "      <th>max</th>\n",
       "      <td>-55.568350</td>\n",
       "      <td>-54.978510</td>\n",
       "      <td>-31.799800</td>\n",
       "      <td>-56.931640</td>\n",
       "      <td>-55.845700</td>\n",
       "      <td>-55.648430</td>\n",
       "      <td>-54.966790</td>\n",
       "      <td>-55.792960</td>\n",
       "      <td>-55.128900</td>\n",
       "      <td>-53.615230</td>\n",
       "    </tr>\n",
       "  </tbody>\n",
       "</table>\n",
       "</div>"
      ],
      "text/plain": [
       "          header-1     header-2     header-3     header-4     header-5  \\\n",
       "count  1601.000000  1601.000000  1601.000000  1601.000000  1601.000000   \n",
       "mean    -68.037413   -68.289860   -68.107942   -68.058462   -66.863700   \n",
       "std       5.890666     5.805542     5.767763     5.548506     5.641771   \n",
       "min    -101.832000   -97.082020   -97.042960   -98.621080   -94.300790   \n",
       "25%     -70.761720   -71.277340   -71.140620   -71.128900   -69.917960   \n",
       "50%     -67.078120   -67.328120   -67.226560   -67.257800   -66.097650   \n",
       "75%     -64.171870   -64.257810   -64.175780   -64.144530   -62.966790   \n",
       "max     -55.568350   -54.978510   -31.799800   -56.931640   -55.845700   \n",
       "\n",
       "          header-6     header-7     header-8     header-9    header-10  \n",
       "count  1601.000000  1601.000000  1601.000000  1601.000000  1601.000000  \n",
       "mean    -67.677188   -67.744986   -67.758638   -67.645836   -67.674163  \n",
       "std       5.706862     5.805282     5.673485     5.529771     5.595850  \n",
       "min     -99.761710   -96.996080   -94.460930  -102.933600  -100.296900  \n",
       "25%     -70.613280   -70.945310   -70.714840   -70.421870   -70.878910  \n",
       "50%     -66.945300   -66.886710   -66.886710   -66.808590   -66.789050  \n",
       "75%     -63.654290   -63.656240   -63.765620   -63.810540   -63.833980  \n",
       "max     -55.648430   -54.966790   -55.792960   -55.128900   -53.615230  "
      ]
     },
     "execution_count": 7,
     "metadata": {},
     "output_type": "execute_result"
    }
   ],
   "source": [
    "dfs[0].describe()"
   ]
  },
  {
   "cell_type": "code",
   "execution_count": 9,
   "metadata": {},
   "outputs": [
    {
     "data": {
      "text/html": [
       "<div>\n",
       "<style scoped>\n",
       "    .dataframe tbody tr th:only-of-type {\n",
       "        vertical-align: middle;\n",
       "    }\n",
       "\n",
       "    .dataframe tbody tr th {\n",
       "        vertical-align: top;\n",
       "    }\n",
       "\n",
       "    .dataframe thead th {\n",
       "        text-align: right;\n",
       "    }\n",
       "</style>\n",
       "<table border=\"1\" class=\"dataframe\">\n",
       "  <thead>\n",
       "    <tr style=\"text-align: right;\">\n",
       "      <th></th>\n",
       "      <th>frequency</th>\n",
       "    </tr>\n",
       "  </thead>\n",
       "  <tbody>\n",
       "    <tr>\n",
       "      <th>count</th>\n",
       "      <td>1.601000e+03</td>\n",
       "    </tr>\n",
       "    <tr>\n",
       "      <th>mean</th>\n",
       "      <td>6.847658e+09</td>\n",
       "    </tr>\n",
       "    <tr>\n",
       "      <th>std</th>\n",
       "      <td>2.165740e+09</td>\n",
       "    </tr>\n",
       "    <tr>\n",
       "      <th>min</th>\n",
       "      <td>3.100000e+09</td>\n",
       "    </tr>\n",
       "    <tr>\n",
       "      <th>25%</th>\n",
       "      <td>4.973829e+09</td>\n",
       "    </tr>\n",
       "    <tr>\n",
       "      <th>50%</th>\n",
       "      <td>6.847658e+09</td>\n",
       "    </tr>\n",
       "    <tr>\n",
       "      <th>75%</th>\n",
       "      <td>8.721487e+09</td>\n",
       "    </tr>\n",
       "    <tr>\n",
       "      <th>max</th>\n",
       "      <td>1.059532e+10</td>\n",
       "    </tr>\n",
       "  </tbody>\n",
       "</table>\n",
       "</div>"
      ],
      "text/plain": [
       "          frequency\n",
       "count  1.601000e+03\n",
       "mean   6.847658e+09\n",
       "std    2.165740e+09\n",
       "min    3.100000e+09\n",
       "25%    4.973829e+09\n",
       "50%    6.847658e+09\n",
       "75%    8.721487e+09\n",
       "max    1.059532e+10"
      ]
     },
     "execution_count": 9,
     "metadata": {},
     "output_type": "execute_result"
    }
   ],
   "source": [
    "# read frequency file\n",
    "\n",
    "freq_df=pd.read_csv('/Users/akachro/Documents/PythonCodes/UltraWideBandWearable_measurements-master/RF modeling/matlab/final_mes/in_nlos/P2/frequencyList.csv',header=None,names=['frequency'])\n",
    "freq_df.describe()"
   ]
  },
  {
   "cell_type": "code",
   "execution_count": 10,
   "metadata": {},
   "outputs": [
    {
     "name": "stdout",
     "output_type": "stream",
     "text": [
      "frequency    7.495315e+09\n",
      "dtype: float64\n"
     ]
    }
   ],
   "source": [
    "bw=freq_df.max()-freq_df.min(); print(bw)"
   ]
  },
  {
   "cell_type": "code",
   "execution_count": 11,
   "metadata": {},
   "outputs": [
    {
     "name": "stdout",
     "output_type": "stream",
     "text": [
      "(10, 10)\n"
     ]
    }
   ],
   "source": [
    "y=np.array([dfs[i].mean(axis=0) for i in range(0,10)])\n",
    "print((y.shape))"
   ]
  },
  {
   "cell_type": "code",
   "execution_count": 12,
   "metadata": {},
   "outputs": [
    {
     "name": "stdout",
     "output_type": "stream",
     "text": [
      "(10,)\n",
      "[67.78581875 67.8930327  68.21623049 67.34778531 68.19878656 66.71780435\n",
      " 66.75867923 65.40075338 64.48112033 62.60517777]\n"
     ]
    }
   ],
   "source": [
    "pl=np.mean(y, axis=1)*-1;\n",
    "print(pl.shape)\n",
    "print(pl)"
   ]
  },
  {
   "cell_type": "code",
   "execution_count": 13,
   "metadata": {},
   "outputs": [],
   "source": [
    "dist=10*np.log10(distances);"
   ]
  },
  {
   "cell_type": "code",
   "execution_count": 14,
   "metadata": {},
   "outputs": [
    {
     "name": "stdout",
     "output_type": "stream",
     "text": [
      "       dist         pl\n",
      "0  9.030900  67.785819\n",
      "1  8.750613  67.893033\n",
      "2  8.450980  68.216230\n",
      "3  8.129134  67.347785\n",
      "4  7.781513  68.198787\n",
      "5  7.403627  66.717804\n",
      "6  6.989700  66.758679\n",
      "7  6.532125  65.400753\n",
      "8  6.020600  64.481120\n",
      "9  5.440680  62.605178\n"
     ]
    }
   ],
   "source": [
    "# plotiing with 95% confidence interval\n",
    "\n",
    "import seaborn as sns\n",
    "dat=pd.DataFrame([dist,pl],index=['dist','pl']).T\n",
    "print(dat)"
   ]
  },
  {
   "cell_type": "code",
   "execution_count": 43,
   "metadata": {},
   "outputs": [
    {
     "data": {
      "text/plain": [
       "<matplotlib.figure.Figure at 0x16716ad0>"
      ]
     },
     "metadata": {},
     "output_type": "display_data"
    },
    {
     "data": {
      "image/png": "[encoded data removed]",
      "text/plain": [
       "<matplotlib.figure.Figure at 0x180c470>"
      ]
     },
     "metadata": {},
     "output_type": "display_data"
    }
   ],
   "source": [
    "%matplotlib inline\n",
    "# Reset default params\n",
    "#sns.set()\n",
    "# a4 paper\n",
    "sns.set(rc={'figure.figsize':(11.7,8.27)})\n",
    "# Set context to `\"paper\"`\n",
    "#sns.set_context(\"talk\")\n",
    "\n",
    "plt.figure(figsize=(10,20))\n",
    "g=sns.lmplot(x='dist',y='pl',data=dat,fit_reg=True,size=7,aspect=1);\n",
    "ax=g.axes[0,0];\n",
    "g.set\n",
    "ax.grid(True)\n",
    "sns.set(color_codes=True)"
   ]
  },
  {
   "cell_type": "code",
   "execution_count": 30,
   "metadata": {},
   "outputs": [
    {
     "name": "stdout",
     "output_type": "stream",
     "text": [
      "Requirement already satisfied: statsmodels in c:\\python36\\lib\\site-packages (0.9.0)\n",
      "Requirement already satisfied: patsy in c:\\python36\\lib\\site-packages (from statsmodels) (0.5.0)\n",
      "Requirement already satisfied: pandas in c:\\python36\\lib\\site-packages (from statsmodels) (0.23.0)\n",
      "Requirement already satisfied: six in c:\\users\\akachro\\appdata\\roaming\\python\\python36\\site-packages (from patsy->statsmodels) (1.11.0)\n",
      "Requirement already satisfied: numpy>=1.4 in c:\\python36\\lib\\site-packages (from patsy->statsmodels) (1.14.3)\n",
      "Requirement already satisfied: python-dateutil>=2.5.0 in c:\\users\\akachro\\appdata\\roaming\\python\\python36\\site-packages (from pandas->statsmodels) (2.6.1)\n",
      "Requirement already satisfied: pytz>=2011k in c:\\users\\akachro\\appdata\\roaming\\python\\python36\\site-packages (from pandas->statsmodels) (2017.2)\n"
     ]
    }
   ],
   "source": [
    "# use the math stas library\n",
    "!python3 -m pip install statsmodels"
   ]
  },
  {
   "cell_type": "code",
   "execution_count": 31,
   "metadata": {},
   "outputs": [],
   "source": [
    "import statsmodels.api as sm\n"
   ]
  },
  {
   "cell_type": "code",
   "execution_count": 183,
   "metadata": {},
   "outputs": [
    {
     "name": "stdout",
     "output_type": "stream",
     "text": [
      "Collecting patsy\n",
      "  Downloading https://files.pythonhosted.org/packages/ea/0c/5f61f1a3d4385d6bf83b83ea495068857ff8dfb89e74824c6e9eb63286d8/patsy-0.5.1-py2.py3-none-any.whl (231kB)\n",
      "Requirement already satisfied: six in c:\\python3\\lib\\site-packages (from patsy) (1.12.0)\n",
      "Requirement already satisfied: numpy>=1.4 in c:\\python3\\lib\\site-packages (from patsy) (1.15.4)\n",
      "Installing collected packages: patsy\n",
      "Successfully installed patsy-0.5.1\n"
     ]
    }
   ],
   "source": [
    "!python3 -m pip install patsy"
   ]
  },
  {
   "cell_type": "code",
   "execution_count": 32,
   "metadata": {},
   "outputs": [],
   "source": [
    "# fitting with mathstats library \n",
    "dist2=sm.add_constant(dist);\n",
    "model=sm.OLS(pl,dist2);\n",
    "fitted=model.fit()"
   ]
  },
  {
   "cell_type": "code",
   "execution_count": 45,
   "metadata": {},
   "outputs": [
    {
     "data": {
      "text/plain": [
       "<matplotlib.figure.Figure at 0x135cafd0>"
      ]
     },
     "execution_count": 45,
     "metadata": {},
     "output_type": "execute_result"
    },
    {
     "data": {
      "image/png": "[encoded data removed]",
      "text/plain": [
       "<matplotlib.figure.Figure at 0x150ba3f0>"
      ]
     },
     "metadata": {},
     "output_type": "display_data"
    },
    {
     "data": {
      "text/plain": [
       "<matplotlib.figure.Figure at 0x135cafd0>"
      ]
     },
     "metadata": {},
     "output_type": "display_data"
    }
   ],
   "source": [
    "plt.scatter(dist,pl,alpha=0.5,color='orchid');\n",
    "plt.grid(True);\n",
    "x_pred=np.linspace(dist.min(),dist.max(),50);\n",
    "x_pred2=sm.add_constant(x_pred); y_pred=fitted.predict(x_pred2);\n",
    "plt.plot(x_pred,y_pred,'-',color='darkorchid',linewidth=2)\n",
    "plt.xlabel('distance');\n",
    "plt.ylabel('path loss [dB]')\n",
    "plt.figure(figsize=(10,15))\n"
   ]
  },
  {
   "cell_type": "code",
   "execution_count": 33,
   "metadata": {},
   "outputs": [
    {
     "name": "stdout",
     "output_type": "stream",
     "text": [
      "                            OLS Regression Results                            \n",
      "==============================================================================\n",
      "Dep. Variable:                      y   R-squared:                       0.845\n",
      "Model:                            OLS   Adj. R-squared:                  0.826\n",
      "Method:                 Least Squares   F-statistic:                     43.58\n",
      "Date:                Mon, 17 Dec 2018   Prob (F-statistic):           0.000169\n",
      "Time:                        12:44:58   Log-Likelihood:                -10.478\n",
      "No. Observations:                  10   AIC:                             24.96\n",
      "Df Residuals:                       8   BIC:                             25.56\n",
      "Df Model:                           1                                         \n",
      "Covariance Type:            nonrobust                                         \n",
      "==============================================================================\n",
      "                 coef    std err          t      P>|t|      [0.025      0.975]\n",
      "------------------------------------------------------------------------------\n",
      "const         55.9732      1.619     34.569      0.000      52.239      59.707\n",
      "x1             1.4179      0.215      6.602      0.000       0.923       1.913\n",
      "==============================================================================\n",
      "Omnibus:                        0.028   Durbin-Watson:                   1.203\n",
      "Prob(Omnibus):                  0.986   Jarque-Bera (JB):                0.259\n",
      "Skew:                           0.012   Prob(JB):                        0.879\n",
      "Kurtosis:                       2.212   Cond. No.                         50.9\n",
      "==============================================================================\n",
      "\n",
      "Warnings:\n",
      "[1] Standard Errors assume that the covariance matrix of the errors is correctly specified.\n"
     ]
    },
    {
     "name": "stderr",
     "output_type": "stream",
     "text": [
      "C:\\python36\\lib\\site-packages\\scipy\\stats\\stats.py:1394: UserWarning: kurtosistest only valid for n>=20 ... continuing anyway, n=10\n",
      "  \"anyway, n=%i\" % int(n))\n"
     ]
    }
   ],
   "source": [
    "# check the summary\n",
    "print(fitted.summary())\n",
    "\n",
    "# the t-score is very significant >6 and R^2 value is pretty good=84.5% of pints are covered"
   ]
  },
  {
   "cell_type": "code",
   "execution_count": 34,
   "metadata": {},
   "outputs": [
    {
     "name": "stdout",
     "output_type": "stream",
     "text": [
      "[9, 10, 11, 12, 10, 11, 12, 13, 11, 12, 13, 14, 12, 13, 14, 15]\n"
     ]
    }
   ],
   "source": [
    "hh=[i+j for i in range(1,5) for j in range(8,12)]; print(hh)"
   ]
  },
  {
   "cell_type": "code",
   "execution_count": 35,
   "metadata": {},
   "outputs": [
    {
     "data": {
      "text/plain": [
       "(1601, 1)"
      ]
     },
     "execution_count": 35,
     "metadata": {},
     "output_type": "execute_result"
    }
   ],
   "source": [
    "freq_df.shape"
   ]
  },
  {
   "cell_type": "code",
   "execution_count": 36,
   "metadata": {},
   "outputs": [
    {
     "data": {
      "text/plain": [
       "header-1    -65.45703\n",
       "header-2    -72.05078\n",
       "header-3    -79.59765\n",
       "header-4    -72.71484\n",
       "header-5    -62.59766\n",
       "header-6    -67.92578\n",
       "header-7    -65.70703\n",
       "header-8    -86.93750\n",
       "header-9    -74.44921\n",
       "header-10   -74.38671\n",
       "Name: 1, dtype: float64"
      ]
     },
     "execution_count": 36,
     "metadata": {},
     "output_type": "execute_result"
    }
   ],
   "source": [
    "dfs[0].loc[1,:]\n",
    "#float(freq_df.loc[2,:])*np.ones(10)\n"
   ]
  },
  {
   "cell_type": "code",
   "execution_count": 37,
   "metadata": {},
   "outputs": [],
   "source": [
    "# creating a join\n",
    "dff = dfs[0].merge(freq_df, right_index=True, left_index=True,how='outer').reset_index()\n",
    "#dfs[0].plot.scatter(x='header-1',y='header-2',c='darkblue')"
   ]
  },
  {
   "cell_type": "code",
   "execution_count": 38,
   "metadata": {},
   "outputs": [
    {
     "data": {
      "text/html": [
       "<div>\n",
       "<style scoped>\n",
       "    .dataframe tbody tr th:only-of-type {\n",
       "        vertical-align: middle;\n",
       "    }\n",
       "\n",
       "    .dataframe tbody tr th {\n",
       "        vertical-align: top;\n",
       "    }\n",
       "\n",
       "    .dataframe thead th {\n",
       "        text-align: right;\n",
       "    }\n",
       "</style>\n",
       "<table border=\"1\" class=\"dataframe\">\n",
       "  <thead>\n",
       "    <tr style=\"text-align: right;\">\n",
       "      <th></th>\n",
       "      <th>index</th>\n",
       "      <th>header-1</th>\n",
       "      <th>header-2</th>\n",
       "      <th>header-3</th>\n",
       "      <th>header-4</th>\n",
       "      <th>header-5</th>\n",
       "      <th>header-6</th>\n",
       "      <th>header-7</th>\n",
       "      <th>header-8</th>\n",
       "      <th>header-9</th>\n",
       "      <th>header-10</th>\n",
       "      <th>frequency</th>\n",
       "    </tr>\n",
       "  </thead>\n",
       "  <tbody>\n",
       "    <tr>\n",
       "      <th>0</th>\n",
       "      <td>0</td>\n",
       "      <td>-68.29687</td>\n",
       "      <td>-69.69921</td>\n",
       "      <td>-67.48828</td>\n",
       "      <td>-66.32030</td>\n",
       "      <td>-68.01562</td>\n",
       "      <td>-67.14844</td>\n",
       "      <td>-80.21484</td>\n",
       "      <td>-67.57030</td>\n",
       "      <td>-65.55469</td>\n",
       "      <td>-63.84766</td>\n",
       "      <td>3.100000e+09</td>\n",
       "    </tr>\n",
       "    <tr>\n",
       "      <th>1</th>\n",
       "      <td>1</td>\n",
       "      <td>-65.45703</td>\n",
       "      <td>-72.05078</td>\n",
       "      <td>-79.59765</td>\n",
       "      <td>-72.71484</td>\n",
       "      <td>-62.59766</td>\n",
       "      <td>-67.92578</td>\n",
       "      <td>-65.70703</td>\n",
       "      <td>-86.93750</td>\n",
       "      <td>-74.44921</td>\n",
       "      <td>-74.38671</td>\n",
       "      <td>3.104685e+09</td>\n",
       "    </tr>\n",
       "    <tr>\n",
       "      <th>2</th>\n",
       "      <td>2</td>\n",
       "      <td>-83.89843</td>\n",
       "      <td>-77.62500</td>\n",
       "      <td>-69.50781</td>\n",
       "      <td>-82.76562</td>\n",
       "      <td>-77.49218</td>\n",
       "      <td>-67.29297</td>\n",
       "      <td>-74.70703</td>\n",
       "      <td>-70.26562</td>\n",
       "      <td>-75.64843</td>\n",
       "      <td>-72.91016</td>\n",
       "      <td>3.109369e+09</td>\n",
       "    </tr>\n",
       "    <tr>\n",
       "      <th>3</th>\n",
       "      <td>3</td>\n",
       "      <td>-67.35546</td>\n",
       "      <td>-72.19140</td>\n",
       "      <td>-67.98828</td>\n",
       "      <td>-66.30077</td>\n",
       "      <td>-67.99218</td>\n",
       "      <td>-67.82421</td>\n",
       "      <td>-64.87109</td>\n",
       "      <td>-66.55468</td>\n",
       "      <td>-66.28515</td>\n",
       "      <td>-67.22265</td>\n",
       "      <td>3.114054e+09</td>\n",
       "    </tr>\n",
       "    <tr>\n",
       "      <th>4</th>\n",
       "      <td>4</td>\n",
       "      <td>-71.62109</td>\n",
       "      <td>-68.25000</td>\n",
       "      <td>-76.96875</td>\n",
       "      <td>-76.19922</td>\n",
       "      <td>-68.62890</td>\n",
       "      <td>-69.53906</td>\n",
       "      <td>-70.21093</td>\n",
       "      <td>-74.26952</td>\n",
       "      <td>-75.36327</td>\n",
       "      <td>-72.21484</td>\n",
       "      <td>3.118738e+09</td>\n",
       "    </tr>\n",
       "  </tbody>\n",
       "</table>\n",
       "</div>"
      ],
      "text/plain": [
       "   index  header-1  header-2  header-3  header-4  header-5  header-6  \\\n",
       "0      0 -68.29687 -69.69921 -67.48828 -66.32030 -68.01562 -67.14844   \n",
       "1      1 -65.45703 -72.05078 -79.59765 -72.71484 -62.59766 -67.92578   \n",
       "2      2 -83.89843 -77.62500 -69.50781 -82.76562 -77.49218 -67.29297   \n",
       "3      3 -67.35546 -72.19140 -67.98828 -66.30077 -67.99218 -67.82421   \n",
       "4      4 -71.62109 -68.25000 -76.96875 -76.19922 -68.62890 -69.53906   \n",
       "\n",
       "   header-7  header-8  header-9  header-10     frequency  \n",
       "0 -80.21484 -67.57030 -65.55469  -63.84766  3.100000e+09  \n",
       "1 -65.70703 -86.93750 -74.44921  -74.38671  3.104685e+09  \n",
       "2 -74.70703 -70.26562 -75.64843  -72.91016  3.109369e+09  \n",
       "3 -64.87109 -66.55468 -66.28515  -67.22265  3.114054e+09  \n",
       "4 -70.21093 -74.26952 -75.36327  -72.21484  3.118738e+09  "
      ]
     },
     "execution_count": 38,
     "metadata": {},
     "output_type": "execute_result"
    }
   ],
   "source": [
    "dff.head()"
   ]
  },
  {
   "cell_type": "code",
   "execution_count": null,
   "metadata": {},
   "outputs": [],
   "source": []
  }
 ],
 "metadata": {
  "kernelspec": {
   "display_name": "Python 3",
   "language": "python",
   "name": "python3"
  },
  "language_info": {
   "codemirror_mode": {
    "name": "ipython",
    "version": 3
   },
   "file_extension": ".py",
   "mimetype": "text/x-python",
   "name": "python",
   "nbconvert_exporter": "python",
   "pygments_lexer": "ipython3",
   "version": "3.6.5"
  }
 },
 "nbformat": 4,
 "nbformat_minor": 2
}
